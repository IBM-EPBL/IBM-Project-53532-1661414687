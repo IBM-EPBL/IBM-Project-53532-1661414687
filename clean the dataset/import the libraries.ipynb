{
 "cells": [
  {
   "cell_type": "markdown",
   "metadata": {},
   "source": [
    "{ “cells”: \\[ { “cell_type”: “code”, “execution_count”: null, “id”:\n",
    "“f969e5ad”, “metadata”: {}, “outputs”: \\[\\], “source”: \\[ “import pandas\n",
    "as pd”, “import numpy as np”, “from collection import Counter as c”,\n",
    "“import matplotlib.pyplot as plt”, “import seaborn as sns”, “import\n",
    "missingno as msno”, “from sklearn.metrics import accuracy_score,\n",
    "confusion_metrics”, “from sklearn.model_selection import\n",
    "train_test_split”, “from sklearn.preprocessing import LabelEncoder”,\n",
    "“from sklearn.linear_model import LogisticRegression”, “import pickle”\n",
    "\\] } \\], “metadata”: { “kernelspec”: { “display_name”: “Python 3\n",
    "(ipykernel)”, “language”: “python”, “name”: “python3” },\n",
    "“language_info”: { “codemirror_mode”: { “name”: “ipython”, “version”: 3\n",
    "}, “file_extension”: “.py”, “mimetype”: “text/x-python”, “name”:\n",
    "“python”, “nbconvert_exporter”: “python”, “pygments_lexer”: “ipython3”,\n",
    "“version”: “3.9.12” } }, “nbformat”: 4, “nbformat_minor”: 5 }"
   ]
  }
 ],
 "nbformat": 4,
 "nbformat_minor": 5,
 "metadata": {}
}
