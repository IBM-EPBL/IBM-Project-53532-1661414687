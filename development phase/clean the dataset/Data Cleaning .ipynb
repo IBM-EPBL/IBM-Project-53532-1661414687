{
 "cells": [
  {
   "cell_type": "code",
   "execution_count": 1,
   "metadata": {
    "id": "7er0Pp4OxaiY"
   },
   "outputs": [],
   "source": [
    "import numpy as np\n",
    "import pandas as pd\n",
    "import matplotlib.pyplot as plt\n",
    "import seaborn as sns\n",
    "import warnings\n",
    "warnings.filterwarnings('ignore')"
   ]
  },
  {
   "cell_type": "code",
   "execution_count": 2,
   "metadata": {
    "id": "3G0hI7ogxsC1"
   },
   "outputs": [],
   "source": [
    "df=pd.read_csv(r'C:\\Users\\Gokul\\Downloads\\chronickidneydisease (1).csv')"
   ]
  },
  {
   "cell_type": "markdown",
   "metadata": {
    "id": "L-FUEw3Fxxa_"
   },
   "source": [
    "Exploring Dataset"
   ]
  },
  {
   "cell_type": "code",
   "execution_count": 3,
   "metadata": {
    "colab": {
     "base_uri": "https://localhost:8080/"
    },
    "id": "bRA4o_0BxvCf",
    "outputId": "ce2d47c8-2cf4-43ed-8d23-8efbbd934bb1"
   },
   "outputs": [
    {
     "name": "stdout",
     "output_type": "stream",
     "text": [
      "The dataset shape is (400, 26)\n"
     ]
    }
   ],
   "source": [
    "print(\"The dataset shape is {}\".format(df.shape))"
   ]
  },
  {
   "cell_type": "markdown",
   "metadata": {
    "id": "NQ4IYqCAx3gL"
   },
   "source": [
    "The dataset shape is (400, 26)"
   ]
  },
  {
   "cell_type": "code",
   "execution_count": 4,
   "metadata": {
    "colab": {
     "base_uri": "https://localhost:8080/",
     "height": 235
    },
    "id": "jbUktRMDx6Jw",
    "outputId": "26e1b5fe-44b1-4e17-a160-f97d743383a0"
   },
   "outputs": [
    {
     "data": {
      "text/html": [
       "<div>\n",
       "<style scoped>\n",
       "    .dataframe tbody tr th:only-of-type {\n",
       "        vertical-align: middle;\n",
       "    }\n",
       "\n",
       "    .dataframe tbody tr th {\n",
       "        vertical-align: top;\n",
       "    }\n",
       "\n",
       "    .dataframe thead th {\n",
       "        text-align: right;\n",
       "    }\n",
       "</style>\n",
       "<table border=\"1\" class=\"dataframe\">\n",
       "  <thead>\n",
       "    <tr style=\"text-align: right;\">\n",
       "      <th></th>\n",
       "      <th>id</th>\n",
       "      <th>age</th>\n",
       "      <th>bp</th>\n",
       "      <th>sg</th>\n",
       "      <th>al</th>\n",
       "      <th>su</th>\n",
       "      <th>rbc</th>\n",
       "      <th>pc</th>\n",
       "      <th>pcc</th>\n",
       "      <th>ba</th>\n",
       "      <th>...</th>\n",
       "      <th>pcv</th>\n",
       "      <th>wc</th>\n",
       "      <th>rc</th>\n",
       "      <th>htn</th>\n",
       "      <th>dm</th>\n",
       "      <th>cad</th>\n",
       "      <th>appet</th>\n",
       "      <th>pe</th>\n",
       "      <th>ane</th>\n",
       "      <th>classification</th>\n",
       "    </tr>\n",
       "  </thead>\n",
       "  <tbody>\n",
       "    <tr>\n",
       "      <th>0</th>\n",
       "      <td>0</td>\n",
       "      <td>48.0</td>\n",
       "      <td>80.0</td>\n",
       "      <td>1.020</td>\n",
       "      <td>1.0</td>\n",
       "      <td>0.0</td>\n",
       "      <td>NaN</td>\n",
       "      <td>normal</td>\n",
       "      <td>notpresent</td>\n",
       "      <td>notpresent</td>\n",
       "      <td>...</td>\n",
       "      <td>44</td>\n",
       "      <td>7800</td>\n",
       "      <td>5.2</td>\n",
       "      <td>yes</td>\n",
       "      <td>yes</td>\n",
       "      <td>no</td>\n",
       "      <td>good</td>\n",
       "      <td>no</td>\n",
       "      <td>no</td>\n",
       "      <td>ckd</td>\n",
       "    </tr>\n",
       "    <tr>\n",
       "      <th>1</th>\n",
       "      <td>1</td>\n",
       "      <td>7.0</td>\n",
       "      <td>50.0</td>\n",
       "      <td>1.020</td>\n",
       "      <td>4.0</td>\n",
       "      <td>0.0</td>\n",
       "      <td>NaN</td>\n",
       "      <td>normal</td>\n",
       "      <td>notpresent</td>\n",
       "      <td>notpresent</td>\n",
       "      <td>...</td>\n",
       "      <td>38</td>\n",
       "      <td>6000</td>\n",
       "      <td>NaN</td>\n",
       "      <td>no</td>\n",
       "      <td>no</td>\n",
       "      <td>no</td>\n",
       "      <td>good</td>\n",
       "      <td>no</td>\n",
       "      <td>no</td>\n",
       "      <td>ckd</td>\n",
       "    </tr>\n",
       "    <tr>\n",
       "      <th>2</th>\n",
       "      <td>2</td>\n",
       "      <td>62.0</td>\n",
       "      <td>80.0</td>\n",
       "      <td>1.010</td>\n",
       "      <td>2.0</td>\n",
       "      <td>3.0</td>\n",
       "      <td>normal</td>\n",
       "      <td>normal</td>\n",
       "      <td>notpresent</td>\n",
       "      <td>notpresent</td>\n",
       "      <td>...</td>\n",
       "      <td>31</td>\n",
       "      <td>7500</td>\n",
       "      <td>NaN</td>\n",
       "      <td>no</td>\n",
       "      <td>yes</td>\n",
       "      <td>no</td>\n",
       "      <td>poor</td>\n",
       "      <td>no</td>\n",
       "      <td>yes</td>\n",
       "      <td>ckd</td>\n",
       "    </tr>\n",
       "    <tr>\n",
       "      <th>3</th>\n",
       "      <td>3</td>\n",
       "      <td>48.0</td>\n",
       "      <td>70.0</td>\n",
       "      <td>1.005</td>\n",
       "      <td>4.0</td>\n",
       "      <td>0.0</td>\n",
       "      <td>normal</td>\n",
       "      <td>abnormal</td>\n",
       "      <td>present</td>\n",
       "      <td>notpresent</td>\n",
       "      <td>...</td>\n",
       "      <td>32</td>\n",
       "      <td>6700</td>\n",
       "      <td>3.9</td>\n",
       "      <td>yes</td>\n",
       "      <td>no</td>\n",
       "      <td>no</td>\n",
       "      <td>poor</td>\n",
       "      <td>yes</td>\n",
       "      <td>yes</td>\n",
       "      <td>ckd</td>\n",
       "    </tr>\n",
       "    <tr>\n",
       "      <th>4</th>\n",
       "      <td>4</td>\n",
       "      <td>51.0</td>\n",
       "      <td>80.0</td>\n",
       "      <td>1.010</td>\n",
       "      <td>2.0</td>\n",
       "      <td>0.0</td>\n",
       "      <td>normal</td>\n",
       "      <td>normal</td>\n",
       "      <td>notpresent</td>\n",
       "      <td>notpresent</td>\n",
       "      <td>...</td>\n",
       "      <td>35</td>\n",
       "      <td>7300</td>\n",
       "      <td>4.6</td>\n",
       "      <td>no</td>\n",
       "      <td>no</td>\n",
       "      <td>no</td>\n",
       "      <td>good</td>\n",
       "      <td>no</td>\n",
       "      <td>no</td>\n",
       "      <td>ckd</td>\n",
       "    </tr>\n",
       "  </tbody>\n",
       "</table>\n",
       "<p>5 rows × 26 columns</p>\n",
       "</div>"
      ],
      "text/plain": [
       "   id   age    bp     sg   al   su     rbc        pc         pcc          ba  \\\n",
       "0   0  48.0  80.0  1.020  1.0  0.0     NaN    normal  notpresent  notpresent   \n",
       "1   1   7.0  50.0  1.020  4.0  0.0     NaN    normal  notpresent  notpresent   \n",
       "2   2  62.0  80.0  1.010  2.0  3.0  normal    normal  notpresent  notpresent   \n",
       "3   3  48.0  70.0  1.005  4.0  0.0  normal  abnormal     present  notpresent   \n",
       "4   4  51.0  80.0  1.010  2.0  0.0  normal    normal  notpresent  notpresent   \n",
       "\n",
       "   ...  pcv    wc   rc  htn   dm  cad appet   pe  ane classification  \n",
       "0  ...   44  7800  5.2  yes  yes   no  good   no   no            ckd  \n",
       "1  ...   38  6000  NaN   no   no   no  good   no   no            ckd  \n",
       "2  ...   31  7500  NaN   no  yes   no  poor   no  yes            ckd  \n",
       "3  ...   32  6700  3.9  yes   no   no  poor  yes  yes            ckd  \n",
       "4  ...   35  7300  4.6   no   no   no  good   no   no            ckd  \n",
       "\n",
       "[5 rows x 26 columns]"
      ]
     },
     "execution_count": 4,
     "metadata": {},
     "output_type": "execute_result"
    }
   ],
   "source": [
    "df.head()"
   ]
  },
  {
   "cell_type": "code",
   "execution_count": 5,
   "metadata": {
    "colab": {
     "base_uri": "https://localhost:8080/"
    },
    "id": "do0GoOcpyAEH",
    "outputId": "da295c12-f8a0-40a0-f32f-7f941fac2d0a"
   },
   "outputs": [
    {
     "data": {
      "text/plain": [
       "Index(['id', 'age', 'bp', 'sg', 'al', 'su', 'rbc', 'pc', 'pcc', 'ba', 'bgr',\n",
       "       'bu', 'sc', 'sod', 'pot', 'hemo', 'pcv', 'wc', 'rc', 'htn', 'dm', 'cad',\n",
       "       'appet', 'pe', 'ane', 'classification'],\n",
       "      dtype='object')"
      ]
     },
     "execution_count": 5,
     "metadata": {},
     "output_type": "execute_result"
    }
   ],
   "source": [
    "df.columns"
   ]
  },
  {
   "cell_type": "code",
   "execution_count": 6,
   "metadata": {
    "colab": {
     "base_uri": "https://localhost:8080/"
    },
    "id": "P5_Z0UQNyD06",
    "outputId": "d7436aa6-ed1b-44e1-a799-8d37970570b9"
   },
   "outputs": [
    {
     "data": {
      "text/plain": [
       "id                  int64\n",
       "age               float64\n",
       "bp                float64\n",
       "sg                float64\n",
       "al                float64\n",
       "su                float64\n",
       "rbc                object\n",
       "pc                 object\n",
       "pcc                object\n",
       "ba                 object\n",
       "bgr               float64\n",
       "bu                float64\n",
       "sc                float64\n",
       "sod               float64\n",
       "pot               float64\n",
       "hemo              float64\n",
       "pcv                object\n",
       "wc                 object\n",
       "rc                 object\n",
       "htn                object\n",
       "dm                 object\n",
       "cad                object\n",
       "appet              object\n",
       "pe                 object\n",
       "ane                object\n",
       "classification     object\n",
       "dtype: object"
      ]
     },
     "execution_count": 6,
     "metadata": {},
     "output_type": "execute_result"
    }
   ],
   "source": [
    "df.dtypes"
   ]
  },
  {
   "cell_type": "code",
   "execution_count": 7,
   "metadata": {
    "colab": {
     "base_uri": "https://localhost:8080/"
    },
    "id": "tm8LAxoIyGes",
    "outputId": "012072c8-4bce-4d4f-be2b-549f76d80f39"
   },
   "outputs": [
    {
     "name": "stdout",
     "output_type": "stream",
     "text": [
      "<class 'pandas.core.frame.DataFrame'>\n",
      "RangeIndex: 400 entries, 0 to 399\n",
      "Data columns (total 26 columns):\n",
      " #   Column          Non-Null Count  Dtype  \n",
      "---  ------          --------------  -----  \n",
      " 0   id              400 non-null    int64  \n",
      " 1   age             391 non-null    float64\n",
      " 2   bp              388 non-null    float64\n",
      " 3   sg              353 non-null    float64\n",
      " 4   al              354 non-null    float64\n",
      " 5   su              351 non-null    float64\n",
      " 6   rbc             248 non-null    object \n",
      " 7   pc              335 non-null    object \n",
      " 8   pcc             396 non-null    object \n",
      " 9   ba              396 non-null    object \n",
      " 10  bgr             356 non-null    float64\n",
      " 11  bu              381 non-null    float64\n",
      " 12  sc              383 non-null    float64\n",
      " 13  sod             313 non-null    float64\n",
      " 14  pot             312 non-null    float64\n",
      " 15  hemo            348 non-null    float64\n",
      " 16  pcv             330 non-null    object \n",
      " 17  wc              295 non-null    object \n",
      " 18  rc              270 non-null    object \n",
      " 19  htn             398 non-null    object \n",
      " 20  dm              398 non-null    object \n",
      " 21  cad             398 non-null    object \n",
      " 22  appet           399 non-null    object \n",
      " 23  pe              399 non-null    object \n",
      " 24  ane             399 non-null    object \n",
      " 25  classification  400 non-null    object \n",
      "dtypes: float64(11), int64(1), object(14)\n",
      "memory usage: 81.4+ KB\n"
     ]
    }
   ],
   "source": [
    "df.info()"
   ]
  },
  {
   "cell_type": "code",
   "execution_count": 8,
   "metadata": {
    "colab": {
     "base_uri": "https://localhost:8080/",
     "height": 426
    },
    "id": "cbDcHiwWyJB8",
    "outputId": "37676b6b-996e-46ca-bbda-47a40803aee1"
   },
   "outputs": [
    {
     "data": {
      "text/html": [
       "<div>\n",
       "<style scoped>\n",
       "    .dataframe tbody tr th:only-of-type {\n",
       "        vertical-align: middle;\n",
       "    }\n",
       "\n",
       "    .dataframe tbody tr th {\n",
       "        vertical-align: top;\n",
       "    }\n",
       "\n",
       "    .dataframe thead th {\n",
       "        text-align: right;\n",
       "    }\n",
       "</style>\n",
       "<table border=\"1\" class=\"dataframe\">\n",
       "  <thead>\n",
       "    <tr style=\"text-align: right;\">\n",
       "      <th></th>\n",
       "      <th>count</th>\n",
       "      <th>mean</th>\n",
       "      <th>std</th>\n",
       "      <th>min</th>\n",
       "      <th>25%</th>\n",
       "      <th>50%</th>\n",
       "      <th>75%</th>\n",
       "      <th>max</th>\n",
       "    </tr>\n",
       "  </thead>\n",
       "  <tbody>\n",
       "    <tr>\n",
       "      <th>id</th>\n",
       "      <td>400.0</td>\n",
       "      <td>199.500000</td>\n",
       "      <td>115.614301</td>\n",
       "      <td>0.000</td>\n",
       "      <td>99.75</td>\n",
       "      <td>199.50</td>\n",
       "      <td>299.25</td>\n",
       "      <td>399.000</td>\n",
       "    </tr>\n",
       "    <tr>\n",
       "      <th>age</th>\n",
       "      <td>391.0</td>\n",
       "      <td>51.483376</td>\n",
       "      <td>17.169714</td>\n",
       "      <td>2.000</td>\n",
       "      <td>42.00</td>\n",
       "      <td>55.00</td>\n",
       "      <td>64.50</td>\n",
       "      <td>90.000</td>\n",
       "    </tr>\n",
       "    <tr>\n",
       "      <th>bp</th>\n",
       "      <td>388.0</td>\n",
       "      <td>76.469072</td>\n",
       "      <td>13.683637</td>\n",
       "      <td>50.000</td>\n",
       "      <td>70.00</td>\n",
       "      <td>80.00</td>\n",
       "      <td>80.00</td>\n",
       "      <td>180.000</td>\n",
       "    </tr>\n",
       "    <tr>\n",
       "      <th>sg</th>\n",
       "      <td>353.0</td>\n",
       "      <td>1.017408</td>\n",
       "      <td>0.005717</td>\n",
       "      <td>1.005</td>\n",
       "      <td>1.01</td>\n",
       "      <td>1.02</td>\n",
       "      <td>1.02</td>\n",
       "      <td>1.025</td>\n",
       "    </tr>\n",
       "    <tr>\n",
       "      <th>al</th>\n",
       "      <td>354.0</td>\n",
       "      <td>1.016949</td>\n",
       "      <td>1.352679</td>\n",
       "      <td>0.000</td>\n",
       "      <td>0.00</td>\n",
       "      <td>0.00</td>\n",
       "      <td>2.00</td>\n",
       "      <td>5.000</td>\n",
       "    </tr>\n",
       "    <tr>\n",
       "      <th>su</th>\n",
       "      <td>351.0</td>\n",
       "      <td>0.450142</td>\n",
       "      <td>1.099191</td>\n",
       "      <td>0.000</td>\n",
       "      <td>0.00</td>\n",
       "      <td>0.00</td>\n",
       "      <td>0.00</td>\n",
       "      <td>5.000</td>\n",
       "    </tr>\n",
       "    <tr>\n",
       "      <th>bgr</th>\n",
       "      <td>356.0</td>\n",
       "      <td>148.036517</td>\n",
       "      <td>79.281714</td>\n",
       "      <td>22.000</td>\n",
       "      <td>99.00</td>\n",
       "      <td>121.00</td>\n",
       "      <td>163.00</td>\n",
       "      <td>490.000</td>\n",
       "    </tr>\n",
       "    <tr>\n",
       "      <th>bu</th>\n",
       "      <td>381.0</td>\n",
       "      <td>57.425722</td>\n",
       "      <td>50.503006</td>\n",
       "      <td>1.500</td>\n",
       "      <td>27.00</td>\n",
       "      <td>42.00</td>\n",
       "      <td>66.00</td>\n",
       "      <td>391.000</td>\n",
       "    </tr>\n",
       "    <tr>\n",
       "      <th>sc</th>\n",
       "      <td>383.0</td>\n",
       "      <td>3.072454</td>\n",
       "      <td>5.741126</td>\n",
       "      <td>0.400</td>\n",
       "      <td>0.90</td>\n",
       "      <td>1.30</td>\n",
       "      <td>2.80</td>\n",
       "      <td>76.000</td>\n",
       "    </tr>\n",
       "    <tr>\n",
       "      <th>sod</th>\n",
       "      <td>313.0</td>\n",
       "      <td>137.528754</td>\n",
       "      <td>10.408752</td>\n",
       "      <td>4.500</td>\n",
       "      <td>135.00</td>\n",
       "      <td>138.00</td>\n",
       "      <td>142.00</td>\n",
       "      <td>163.000</td>\n",
       "    </tr>\n",
       "    <tr>\n",
       "      <th>pot</th>\n",
       "      <td>312.0</td>\n",
       "      <td>4.627244</td>\n",
       "      <td>3.193904</td>\n",
       "      <td>2.500</td>\n",
       "      <td>3.80</td>\n",
       "      <td>4.40</td>\n",
       "      <td>4.90</td>\n",
       "      <td>47.000</td>\n",
       "    </tr>\n",
       "    <tr>\n",
       "      <th>hemo</th>\n",
       "      <td>348.0</td>\n",
       "      <td>12.526437</td>\n",
       "      <td>2.912587</td>\n",
       "      <td>3.100</td>\n",
       "      <td>10.30</td>\n",
       "      <td>12.65</td>\n",
       "      <td>15.00</td>\n",
       "      <td>17.800</td>\n",
       "    </tr>\n",
       "  </tbody>\n",
       "</table>\n",
       "</div>"
      ],
      "text/plain": [
       "      count        mean         std     min     25%     50%     75%      max\n",
       "id    400.0  199.500000  115.614301   0.000   99.75  199.50  299.25  399.000\n",
       "age   391.0   51.483376   17.169714   2.000   42.00   55.00   64.50   90.000\n",
       "bp    388.0   76.469072   13.683637  50.000   70.00   80.00   80.00  180.000\n",
       "sg    353.0    1.017408    0.005717   1.005    1.01    1.02    1.02    1.025\n",
       "al    354.0    1.016949    1.352679   0.000    0.00    0.00    2.00    5.000\n",
       "su    351.0    0.450142    1.099191   0.000    0.00    0.00    0.00    5.000\n",
       "bgr   356.0  148.036517   79.281714  22.000   99.00  121.00  163.00  490.000\n",
       "bu    381.0   57.425722   50.503006   1.500   27.00   42.00   66.00  391.000\n",
       "sc    383.0    3.072454    5.741126   0.400    0.90    1.30    2.80   76.000\n",
       "sod   313.0  137.528754   10.408752   4.500  135.00  138.00  142.00  163.000\n",
       "pot   312.0    4.627244    3.193904   2.500    3.80    4.40    4.90   47.000\n",
       "hemo  348.0   12.526437    2.912587   3.100   10.30   12.65   15.00   17.800"
      ]
     },
     "execution_count": 8,
     "metadata": {},
     "output_type": "execute_result"
    }
   ],
   "source": [
    "df.describe().T"
   ]
  },
  {
   "cell_type": "code",
   "execution_count": 9,
   "metadata": {
    "colab": {
     "base_uri": "https://localhost:8080/"
    },
    "id": "9Zv4KNYNyMJL",
    "outputId": "77c2c19d-55a2-49f9-a498-c4da3d693bc6"
   },
   "outputs": [
    {
     "name": "stdout",
     "output_type": "stream",
     "text": [
      "0      1\n",
      "263    1\n",
      "273    1\n",
      "272    1\n",
      "271    1\n",
      "      ..\n",
      "130    1\n",
      "129    1\n",
      "128    1\n",
      "127    1\n",
      "399    1\n",
      "Name: id, Length: 400, dtype: int64 \n",
      "========================= \n",
      "\n",
      "60.0    19\n",
      "65.0    17\n",
      "48.0    12\n",
      "55.0    12\n",
      "50.0    12\n",
      "        ..\n",
      "83.0     1\n",
      "27.0     1\n",
      "14.0     1\n",
      "81.0     1\n",
      "79.0     1\n",
      "Name: age, Length: 76, dtype: int64 \n",
      "========================= \n",
      "\n",
      "80.0     116\n",
      "70.0     112\n",
      "60.0      71\n",
      "90.0      53\n",
      "100.0     25\n",
      "50.0       5\n",
      "110.0      3\n",
      "140.0      1\n",
      "180.0      1\n",
      "120.0      1\n",
      "Name: bp, dtype: int64 \n",
      "========================= \n",
      "\n",
      "1.020    106\n",
      "1.010     84\n",
      "1.025     81\n",
      "1.015     75\n",
      "1.005      7\n",
      "Name: sg, dtype: int64 \n",
      "========================= \n",
      "\n",
      "0.0    199\n",
      "1.0     44\n",
      "2.0     43\n",
      "3.0     43\n",
      "4.0     24\n",
      "5.0      1\n",
      "Name: al, dtype: int64 \n",
      "========================= \n",
      "\n",
      "0.0    290\n",
      "2.0     18\n",
      "3.0     14\n",
      "4.0     13\n",
      "1.0     13\n",
      "5.0      3\n",
      "Name: su, dtype: int64 \n",
      "========================= \n",
      "\n",
      "normal      201\n",
      "abnormal     47\n",
      "Name: rbc, dtype: int64 \n",
      "========================= \n",
      "\n",
      "normal      259\n",
      "abnormal     76\n",
      "Name: pc, dtype: int64 \n",
      "========================= \n",
      "\n",
      "notpresent    354\n",
      "present        42\n",
      "Name: pcc, dtype: int64 \n",
      "========================= \n",
      "\n",
      "notpresent    374\n",
      "present        22\n",
      "Name: ba, dtype: int64 \n",
      "========================= \n",
      "\n",
      "99.0     10\n",
      "93.0      9\n",
      "100.0     9\n",
      "107.0     8\n",
      "131.0     6\n",
      "         ..\n",
      "288.0     1\n",
      "182.0     1\n",
      "84.0      1\n",
      "256.0     1\n",
      "226.0     1\n",
      "Name: bgr, Length: 146, dtype: int64 \n",
      "========================= \n",
      "\n",
      "46.0     15\n",
      "25.0     13\n",
      "19.0     11\n",
      "40.0     10\n",
      "50.0      9\n",
      "         ..\n",
      "176.0     1\n",
      "145.0     1\n",
      "92.0      1\n",
      "322.0     1\n",
      "186.0     1\n",
      "Name: bu, Length: 118, dtype: int64 \n",
      "========================= \n",
      "\n",
      "1.2     40\n",
      "1.1     24\n",
      "0.5     23\n",
      "1.0     23\n",
      "0.9     22\n",
      "        ..\n",
      "3.8      1\n",
      "12.2     1\n",
      "9.2      1\n",
      "13.8     1\n",
      "0.4      1\n",
      "Name: sc, Length: 84, dtype: int64 \n",
      "========================= \n",
      "\n",
      "135.0    40\n",
      "140.0    25\n",
      "141.0    22\n",
      "139.0    21\n",
      "138.0    20\n",
      "142.0    20\n",
      "137.0    19\n",
      "150.0    17\n",
      "136.0    17\n",
      "147.0    13\n",
      "145.0    11\n",
      "132.0    10\n",
      "146.0    10\n",
      "131.0     9\n",
      "144.0     9\n",
      "133.0     8\n",
      "130.0     7\n",
      "134.0     6\n",
      "143.0     4\n",
      "124.0     3\n",
      "127.0     3\n",
      "122.0     2\n",
      "113.0     2\n",
      "120.0     2\n",
      "125.0     2\n",
      "128.0     2\n",
      "114.0     2\n",
      "126.0     1\n",
      "163.0     1\n",
      "115.0     1\n",
      "129.0     1\n",
      "4.5       1\n",
      "104.0     1\n",
      "111.0     1\n",
      "Name: sod, dtype: int64 \n",
      "========================= \n",
      "\n",
      "3.5     30\n",
      "5.0     30\n",
      "4.9     27\n",
      "4.7     17\n",
      "4.8     16\n",
      "3.9     14\n",
      "3.8     14\n",
      "4.1     14\n",
      "4.2     14\n",
      "4.0     14\n",
      "4.4     14\n",
      "4.5     13\n",
      "4.3     12\n",
      "3.7     12\n",
      "3.6      8\n",
      "4.6      7\n",
      "3.4      5\n",
      "5.2      5\n",
      "5.3      4\n",
      "5.7      4\n",
      "3.2      3\n",
      "5.5      3\n",
      "6.3      3\n",
      "5.4      3\n",
      "2.9      3\n",
      "3.3      3\n",
      "5.6      2\n",
      "3.0      2\n",
      "6.5      2\n",
      "2.5      2\n",
      "5.9      2\n",
      "5.8      2\n",
      "7.6      1\n",
      "47.0     1\n",
      "6.6      1\n",
      "5.1      1\n",
      "6.4      1\n",
      "2.8      1\n",
      "2.7      1\n",
      "39.0     1\n",
      "Name: pot, dtype: int64 \n",
      "========================= \n",
      "\n",
      "15.0    16\n",
      "10.9     8\n",
      "13.6     7\n",
      "13.0     7\n",
      "9.8      7\n",
      "        ..\n",
      "6.8      1\n",
      "8.5      1\n",
      "7.3      1\n",
      "12.8     1\n",
      "17.6     1\n",
      "Name: hemo, Length: 115, dtype: int64 \n",
      "========================= \n",
      "\n",
      "41      21\n",
      "52      21\n",
      "44      19\n",
      "48      19\n",
      "40      16\n",
      "43      14\n",
      "42      13\n",
      "45      13\n",
      "32      12\n",
      "36      12\n",
      "33      12\n",
      "50      12\n",
      "28      12\n",
      "34      11\n",
      "37      11\n",
      "30       9\n",
      "29       9\n",
      "35       9\n",
      "46       9\n",
      "31       8\n",
      "24       7\n",
      "39       7\n",
      "26       6\n",
      "38       5\n",
      "53       4\n",
      "51       4\n",
      "49       4\n",
      "47       4\n",
      "54       4\n",
      "25       3\n",
      "27       3\n",
      "22       3\n",
      "19       2\n",
      "23       2\n",
      "15       1\n",
      "21       1\n",
      "17       1\n",
      "20       1\n",
      "\\t43     1\n",
      "18       1\n",
      "9        1\n",
      "14       1\n",
      "\\t?      1\n",
      "16       1\n",
      "Name: pcv, dtype: int64 \n",
      "========================= \n",
      "\n",
      "9800     11\n",
      "6700     10\n",
      "9200      9\n",
      "9600      9\n",
      "7200      9\n",
      "         ..\n",
      "19100     1\n",
      "\\t?       1\n",
      "12300     1\n",
      "14900     1\n",
      "12700     1\n",
      "Name: wc, Length: 92, dtype: int64 \n",
      "========================= \n",
      "\n",
      "5.2    18\n",
      "4.5    16\n",
      "4.9    14\n",
      "4.7    11\n",
      "4.8    10\n",
      "3.9    10\n",
      "4.6     9\n",
      "3.4     9\n",
      "5.9     8\n",
      "5.5     8\n",
      "6.1     8\n",
      "5.0     8\n",
      "3.7     8\n",
      "5.3     7\n",
      "5.8     7\n",
      "5.4     7\n",
      "3.8     7\n",
      "5.6     6\n",
      "4.3     6\n",
      "4.2     6\n",
      "3.2     5\n",
      "4.4     5\n",
      "5.7     5\n",
      "6.4     5\n",
      "5.1     5\n",
      "6.2     5\n",
      "6.5     5\n",
      "4.1     5\n",
      "3.6     4\n",
      "6.3     4\n",
      "6.0     4\n",
      "4.0     3\n",
      "3.3     3\n",
      "4       3\n",
      "3.5     3\n",
      "2.9     2\n",
      "3.1     2\n",
      "2.6     2\n",
      "2.1     2\n",
      "2.5     2\n",
      "2.8     2\n",
      "3.0     2\n",
      "2.7     2\n",
      "5       2\n",
      "2.3     1\n",
      "\\t?     1\n",
      "2.4     1\n",
      "3       1\n",
      "8.0     1\n",
      "Name: rc, dtype: int64 \n",
      "========================= \n",
      "\n",
      "no     251\n",
      "yes    147\n",
      "Name: htn, dtype: int64 \n",
      "========================= \n",
      "\n",
      "no       258\n",
      "yes      134\n",
      "\\tno       3\n",
      "\\tyes      2\n",
      " yes       1\n",
      "Name: dm, dtype: int64 \n",
      "========================= \n",
      "\n",
      "no      362\n",
      "yes      34\n",
      "\\tno      2\n",
      "Name: cad, dtype: int64 \n",
      "========================= \n",
      "\n",
      "good    317\n",
      "poor     82\n",
      "Name: appet, dtype: int64 \n",
      "========================= \n",
      "\n",
      "no     323\n",
      "yes     76\n",
      "Name: pe, dtype: int64 \n",
      "========================= \n",
      "\n",
      "no     339\n",
      "yes     60\n",
      "Name: ane, dtype: int64 \n",
      "========================= \n",
      "\n",
      "ckd       248\n",
      "notckd    150\n",
      "ckd\\t       2\n",
      "Name: classification, dtype: int64 \n",
      "========================= \n",
      "\n"
     ]
    }
   ],
   "source": [
    "for col in df:\n",
    "    unique=df[col].value_counts()\n",
    "    print(unique,\"\\n========================= \\n\")"
   ]
  },
  {
   "cell_type": "markdown",
   "metadata": {
    "id": "in47n-yDybT6"
   },
   "source": [
    "Remove unwanted columns"
   ]
  },
  {
   "cell_type": "code",
   "execution_count": 10,
   "metadata": {
    "id": "2XkR839oyPIC"
   },
   "outputs": [],
   "source": [
    "df.drop('id',axis=1,inplace=True)"
   ]
  },
  {
   "cell_type": "markdown",
   "metadata": {
    "id": "0xU_HM1Syjfz"
   },
   "source": [
    "Cleaning the Data values"
   ]
  },
  {
   "cell_type": "code",
   "execution_count": 11,
   "metadata": {
    "id": "mbToMkIByd7o"
   },
   "outputs": [],
   "source": [
    "# cleaning 'PCV'\n",
    "df['pcv']=df['pcv'].apply(lambda x:x if type(x)==type(3.5) else x.replace('\\t43','43').replace('\\t?','Nan'))\n",
    "\n",
    "# cleaning \"WC\"\n",
    "df['wc']=df['wc'].apply(lambda x:x if type(x)==type(3.5) else x.replace('\\t?','Nan').replace('\\t6200','6200').replace('\\t8400','8400'))\n",
    "\n",
    "# cleaning \"RC\"\n",
    "df['rc']=df['rc'].apply(lambda x:x if type(x)==type(3.5) else x.replace('\\t?','Nan'))\n",
    "\n",
    "# cleaning \"dm\"\n",
    "df['dm']=df['dm'].apply(lambda x:x if type(x)==type(3.5) else x.replace('\\tno','no').replace('\\tyes','yes').replace(' yes','yes'))\n",
    "\n",
    "# cleaning \"CAD\"\n",
    "df['cad']=df['cad'].apply(lambda x:x if type(x)==type(3.5) else x.replace('\\tno','no'))\n",
    "\n",
    "# cleaning \"Classification\"\n",
    "df['classification']=df['classification'].apply(lambda x:x if type(x)==type(3.5) else x.replace('ckd\\t','ckd'))"
   ]
  },
  {
   "cell_type": "code",
   "execution_count": 12,
   "metadata": {
    "id": "Aeo1DxjXyo9G"
   },
   "outputs": [],
   "source": [
    "mistyped=[['pcv','rc','wc']]\n",
    "for i in mistyped:\n",
    "    df[i]=df[i].astype('float')"
   ]
  },
  {
   "cell_type": "code",
   "execution_count": 13,
   "metadata": {
    "colab": {
     "base_uri": "https://localhost:8080/"
    },
    "id": "RRJMNo9jyrbq",
    "outputId": "a0f79bda-069f-4e3f-ce7e-099b7475387b"
   },
   "outputs": [
    {
     "data": {
      "text/plain": [
       "['rbc',\n",
       " 'pc',\n",
       " 'pcc',\n",
       " 'ba',\n",
       " 'htn',\n",
       " 'dm',\n",
       " 'cad',\n",
       " 'appet',\n",
       " 'pe',\n",
       " 'ane',\n",
       " 'classification']"
      ]
     },
     "execution_count": 13,
     "metadata": {},
     "output_type": "execute_result"
    }
   ],
   "source": [
    "#  define categoricsl features\n",
    "cat_cols=list(df.select_dtypes('object'))\n",
    "cat_cols"
   ]
  },
  {
   "cell_type": "code",
   "execution_count": 14,
   "metadata": {
    "colab": {
     "base_uri": "https://localhost:8080/"
    },
    "id": "R0sS7oMRyvU8",
    "outputId": "71ad9bc8-d2dc-49d8-cb23-5c777543c75a"
   },
   "outputs": [
    {
     "data": {
      "text/plain": [
       "['age',\n",
       " 'bp',\n",
       " 'sg',\n",
       " 'al',\n",
       " 'su',\n",
       " 'bgr',\n",
       " 'bu',\n",
       " 'sc',\n",
       " 'sod',\n",
       " 'pot',\n",
       " 'hemo',\n",
       " 'pcv',\n",
       " 'wc',\n",
       " 'rc']"
      ]
     },
     "execution_count": 14,
     "metadata": {},
     "output_type": "execute_result"
    }
   ],
   "source": [
    "# define numeric features\n",
    "num_cols=list(df.select_dtypes(['int64','float64']))\n",
    "num_cols"
   ]
  },
  {
   "cell_type": "code",
   "execution_count": 15,
   "metadata": {
    "colab": {
     "base_uri": "https://localhost:8080/"
    },
    "id": "01Qapq19yx_L",
    "outputId": "72328189-34ff-47a2-8346-dcfe311c5f6d"
   },
   "outputs": [
    {
     "data": {
      "text/plain": [
       "rbc               152\n",
       "rc                131\n",
       "wc                106\n",
       "pot                88\n",
       "sod                87\n",
       "pcv                71\n",
       "pc                 65\n",
       "hemo               52\n",
       "su                 49\n",
       "sg                 47\n",
       "al                 46\n",
       "bgr                44\n",
       "bu                 19\n",
       "sc                 17\n",
       "bp                 12\n",
       "age                 9\n",
       "ba                  4\n",
       "pcc                 4\n",
       "htn                 2\n",
       "dm                  2\n",
       "cad                 2\n",
       "appet               1\n",
       "pe                  1\n",
       "ane                 1\n",
       "classification      0\n",
       "dtype: int64"
      ]
     },
     "execution_count": 15,
     "metadata": {},
     "output_type": "execute_result"
    }
   ],
   "source": [
    "# Checking missing/Nan values\n",
    "df.isnull().sum().sort_values(ascending=False)"
   ]
  },
  {
   "cell_type": "code",
   "execution_count": 16,
   "metadata": {
    "id": "_Vgx5u66y0jg"
   },
   "outputs": [],
   "source": [
    "# Let's impute Nan Values with median in numeric features\n",
    "for col in num_cols:\n",
    "    df[col]=df[col].fillna(df[col].median())"
   ]
  },
  {
   "cell_type": "code",
   "execution_count": 17,
   "metadata": {
    "id": "2Js9fBSsy27x"
   },
   "outputs": [],
   "source": [
    "# let's impute categorical features with most frequent value\n",
    "df['rbc'].fillna('normal',inplace=True)\n",
    "df['pc'].fillna('normal',inplace=True)\n",
    "df['pcc'].fillna('notpresent',inplace=True)\n",
    "df['ba'].fillna('notpresent',inplace=True)\n",
    "df['htn'].fillna('no',inplace=True)\n",
    "df['dm'].fillna('no',inplace=True)\n",
    "df['cad'].fillna('no',inplace=True)\n",
    "df['appet'].fillna('good',inplace=True)\n",
    "df['pe'].fillna('no',inplace=True)\n",
    "df['ane'].fillna('no',inplace=True)"
   ]
  },
  {
   "cell_type": "code",
   "execution_count": 18,
   "metadata": {
    "colab": {
     "base_uri": "https://localhost:8080/"
    },
    "id": "4ssXy8ETy5Jl",
    "outputId": "7025dd56-6ecb-4a71-f8a4-62a08734da6a"
   },
   "outputs": [
    {
     "data": {
      "text/plain": [
       "age               0\n",
       "pot               0\n",
       "ane               0\n",
       "pe                0\n",
       "appet             0\n",
       "cad               0\n",
       "dm                0\n",
       "htn               0\n",
       "rc                0\n",
       "wc                0\n",
       "pcv               0\n",
       "hemo              0\n",
       "sod               0\n",
       "bp                0\n",
       "sc                0\n",
       "bu                0\n",
       "bgr               0\n",
       "ba                0\n",
       "pcc               0\n",
       "pc                0\n",
       "rbc               0\n",
       "su                0\n",
       "al                0\n",
       "sg                0\n",
       "classification    0\n",
       "dtype: int64"
      ]
     },
     "execution_count": 18,
     "metadata": {},
     "output_type": "execute_result"
    }
   ],
   "source": [
    "df.isna().sum().sort_values(ascending=False)"
   ]
  },
  {
   "cell_type": "code",
   "execution_count": 19,
   "metadata": {
    "id": "fUFcBCNay9Lq"
   },
   "outputs": [],
   "source": [
    "# Encode classification\n",
    "df['classification']=df['classification'].map({'ckd':1,'notckd':0})"
   ]
  },
  {
   "cell_type": "code",
   "execution_count": 20,
   "metadata": {
    "colab": {
     "base_uri": "https://localhost:8080/",
     "height": 375
    },
    "id": "eY7kmjT2zApc",
    "outputId": "58ce9c4c-2f21-46b2-e856-f640d5359f88"
   },
   "outputs": [
    {
     "data": {
      "image/png": "[encoded data removed]",
      "text/plain": [
       "<Figure size 1008x432 with 1 Axes>"
      ]
     },
     "metadata": {},
     "output_type": "display_data"
    }
   ],
   "source": [
    "attr_count=df['classification'].value_counts()\n",
    "attr_label=df['classification'].value_counts().index\n",
    "\n",
    "# plot\n",
    "fig,ax=plt.subplots(figsize=(14,6))\n",
    "ax.pie(attr_count,explode=(0.1,0),labels=attr_label,autopct='%.2f%%',startangle=90)\n",
    "ax.set_title(\"Classification \",fontsize=15)\n",
    "plt.show()"
   ]
  },
  {
   "cell_type": "code",
   "execution_count": 21,
   "metadata": {
    "colab": {
     "base_uri": "https://localhost:8080/",
     "height": 1000
    },
    "id": "SOiz1fR8zD-O",
    "outputId": "7e966371-7d5e-467b-fff1-af0d1f2106c3"
   },
   "outputs": [
    {
     "data": {
      "image/png": "[encoded data removed]",
      "text/plain": [
       "<Figure size 504x5040 with 14 Axes>"
      ]
     },
     "metadata": {
      "needs_background": "light"
     },
     "output_type": "display_data"
    }
   ],
   "source": [
    "fig,ax=plt.subplots(figsize=(7,70),ncols=1,nrows=14)\n",
    "\n",
    "i=0\n",
    "for col in num_cols:\n",
    "    sns.kdeplot(x=df[col],fill=True,alpha=1,ax=ax[i])\n",
    "    ax[i].set_xlabel(' ')\n",
    "    ax[i].set_ylabel(' ')\n",
    "    ax[i].set_title(col,fontsize=21)\n",
    "    i=i+1\n",
    "plt.show()"
   ]
  },
  {
   "cell_type": "code",
   "execution_count": 22,
   "metadata": {
    "colab": {
     "base_uri": "https://localhost:8080/",
     "height": 488
    },
    "id": "VhKbkagVzG52",
    "outputId": "7940858e-1718-4b57-9545-66450a51111a"
   },
   "outputs": [
    {
     "data": {
      "text/html": [
       "<div>\n",
       "<style scoped>\n",
       "    .dataframe tbody tr th:only-of-type {\n",
       "        vertical-align: middle;\n",
       "    }\n",
       "\n",
       "    .dataframe tbody tr th {\n",
       "        vertical-align: top;\n",
       "    }\n",
       "\n",
       "    .dataframe thead th {\n",
       "        text-align: right;\n",
       "    }\n",
       "</style>\n",
       "<table border=\"1\" class=\"dataframe\">\n",
       "  <thead>\n",
       "    <tr style=\"text-align: right;\">\n",
       "      <th></th>\n",
       "      <th>features</th>\n",
       "      <th>skewness</th>\n",
       "    </tr>\n",
       "  </thead>\n",
       "  <tbody>\n",
       "    <tr>\n",
       "      <th>0</th>\n",
       "      <td>age</td>\n",
       "      <td>-0.689</td>\n",
       "    </tr>\n",
       "    <tr>\n",
       "      <th>1</th>\n",
       "      <td>bp</td>\n",
       "      <td>1.602</td>\n",
       "    </tr>\n",
       "    <tr>\n",
       "      <th>2</th>\n",
       "      <td>sg</td>\n",
       "      <td>-0.333</td>\n",
       "    </tr>\n",
       "    <tr>\n",
       "      <th>3</th>\n",
       "      <td>al</td>\n",
       "      <td>1.180</td>\n",
       "    </tr>\n",
       "    <tr>\n",
       "      <th>4</th>\n",
       "      <td>su</td>\n",
       "      <td>2.700</td>\n",
       "    </tr>\n",
       "    <tr>\n",
       "      <th>5</th>\n",
       "      <td>bgr</td>\n",
       "      <td>2.204</td>\n",
       "    </tr>\n",
       "    <tr>\n",
       "      <th>6</th>\n",
       "      <td>bu</td>\n",
       "      <td>2.724</td>\n",
       "    </tr>\n",
       "    <tr>\n",
       "      <th>7</th>\n",
       "      <td>sc</td>\n",
       "      <td>7.666</td>\n",
       "    </tr>\n",
       "    <tr>\n",
       "      <th>8</th>\n",
       "      <td>sod</td>\n",
       "      <td>-7.929</td>\n",
       "    </tr>\n",
       "    <tr>\n",
       "      <th>9</th>\n",
       "      <td>pot</td>\n",
       "      <td>13.133</td>\n",
       "    </tr>\n",
       "    <tr>\n",
       "      <th>10</th>\n",
       "      <td>hemo</td>\n",
       "      <td>-0.377</td>\n",
       "    </tr>\n",
       "    <tr>\n",
       "      <th>11</th>\n",
       "      <td>pcv</td>\n",
       "      <td>-0.549</td>\n",
       "    </tr>\n",
       "    <tr>\n",
       "      <th>12</th>\n",
       "      <td>wc</td>\n",
       "      <td>2.002</td>\n",
       "    </tr>\n",
       "    <tr>\n",
       "      <th>13</th>\n",
       "      <td>rc</td>\n",
       "      <td>-0.330</td>\n",
       "    </tr>\n",
       "  </tbody>\n",
       "</table>\n",
       "</div>"
      ],
      "text/plain": [
       "   features  skewness\n",
       "0       age    -0.689\n",
       "1        bp     1.602\n",
       "2        sg    -0.333\n",
       "3        al     1.180\n",
       "4        su     2.700\n",
       "5       bgr     2.204\n",
       "6        bu     2.724\n",
       "7        sc     7.666\n",
       "8       sod    -7.929\n",
       "9       pot    13.133\n",
       "10     hemo    -0.377\n",
       "11      pcv    -0.549\n",
       "12       wc     2.002\n",
       "13       rc    -0.330"
      ]
     },
     "execution_count": 22,
     "metadata": {},
     "output_type": "execute_result"
    }
   ],
   "source": [
    "# check skewness of the distribution \n",
    "skew=[]\n",
    "for col in num_cols:\n",
    "    skew.append(round(df[col].skew(),3))\n",
    "num_dist=pd.DataFrame({'features':num_cols,'skewness':skew})\n",
    "num_dist"
   ]
  },
  {
   "cell_type": "code",
   "execution_count": 23,
   "metadata": {
    "colab": {
     "base_uri": "https://localhost:8080/",
     "height": 501
    },
    "id": "zsfwTf_rzLkT",
    "outputId": "757120f1-8959-43aa-eda9-1ca1dc855c45"
   },
   "outputs": [
    {
     "data": {
      "image/png": "[encoded data removed]",
      "text/plain": [
       "<Figure size 1152x576 with 2 Axes>"
      ]
     },
     "metadata": {
      "needs_background": "light"
     },
     "output_type": "display_data"
    }
   ],
   "source": [
    "plt.figure(figsize=(16,8))\n",
    "plt.title('Correlation between All Numerical Features',size=15)\n",
    "\n",
    "# create mask\n",
    "mask=np.triu(np.ones_like(df.corr()))\n",
    "\n",
    "# create colormap\n",
    "colormap=sns.color_palette('Blues')\n",
    "# plot heatmap\n",
    "sns.heatmap(df.corr(),annot=True,cmap=colormap,mask=mask)\n",
    "plt.show()\n"
   ]
  },
  {
   "cell_type": "code",
   "execution_count": 24,
   "metadata": {
    "id": "uAQQy4uZzO4G"
   },
   "outputs": [],
   "source": [
    "df.drop('pcv',axis=1,inplace=True)\n",
    "num_cols.remove('pcv')"
   ]
  },
  {
   "cell_type": "markdown",
   "metadata": {
    "id": "aqGDGtqyzUUu"
   },
   "source": [
    "Target Relationship"
   ]
  },
  {
   "cell_type": "code",
   "execution_count": 25,
   "metadata": {
    "colab": {
     "base_uri": "https://localhost:8080/",
     "height": 457
    },
    "id": "K-30l-zEzU_l",
    "outputId": "76ab05d3-91d3-41cf-9609-5a445b8d3da2"
   },
   "outputs": [
    {
     "data": {
      "text/html": [
       "<div>\n",
       "<style scoped>\n",
       "    .dataframe tbody tr th:only-of-type {\n",
       "        vertical-align: middle;\n",
       "    }\n",
       "\n",
       "    .dataframe tbody tr th {\n",
       "        vertical-align: top;\n",
       "    }\n",
       "\n",
       "    .dataframe thead th {\n",
       "        text-align: right;\n",
       "    }\n",
       "</style>\n",
       "<table border=\"1\" class=\"dataframe\">\n",
       "  <thead>\n",
       "    <tr style=\"text-align: right;\">\n",
       "      <th></th>\n",
       "      <th>numerical_predictor</th>\n",
       "      <th>correlation_w_target</th>\n",
       "    </tr>\n",
       "  </thead>\n",
       "  <tbody>\n",
       "    <tr>\n",
       "      <th>0</th>\n",
       "      <td>al</td>\n",
       "      <td>0.531562</td>\n",
       "    </tr>\n",
       "    <tr>\n",
       "      <th>1</th>\n",
       "      <td>bgr</td>\n",
       "      <td>0.379321</td>\n",
       "    </tr>\n",
       "    <tr>\n",
       "      <th>2</th>\n",
       "      <td>bu</td>\n",
       "      <td>0.369393</td>\n",
       "    </tr>\n",
       "    <tr>\n",
       "      <th>3</th>\n",
       "      <td>su</td>\n",
       "      <td>0.294555</td>\n",
       "    </tr>\n",
       "    <tr>\n",
       "      <th>4</th>\n",
       "      <td>bp</td>\n",
       "      <td>0.293693</td>\n",
       "    </tr>\n",
       "    <tr>\n",
       "      <th>5</th>\n",
       "      <td>sc</td>\n",
       "      <td>0.291245</td>\n",
       "    </tr>\n",
       "    <tr>\n",
       "      <th>6</th>\n",
       "      <td>age</td>\n",
       "      <td>0.227842</td>\n",
       "    </tr>\n",
       "    <tr>\n",
       "      <th>7</th>\n",
       "      <td>wc</td>\n",
       "      <td>0.177571</td>\n",
       "    </tr>\n",
       "    <tr>\n",
       "      <th>8</th>\n",
       "      <td>pot</td>\n",
       "      <td>0.065218</td>\n",
       "    </tr>\n",
       "    <tr>\n",
       "      <th>9</th>\n",
       "      <td>sod</td>\n",
       "      <td>-0.334900</td>\n",
       "    </tr>\n",
       "    <tr>\n",
       "      <th>10</th>\n",
       "      <td>rc</td>\n",
       "      <td>-0.566163</td>\n",
       "    </tr>\n",
       "    <tr>\n",
       "      <th>11</th>\n",
       "      <td>sg</td>\n",
       "      <td>-0.659504</td>\n",
       "    </tr>\n",
       "    <tr>\n",
       "      <th>12</th>\n",
       "      <td>hemo</td>\n",
       "      <td>-0.726368</td>\n",
       "    </tr>\n",
       "  </tbody>\n",
       "</table>\n",
       "</div>"
      ],
      "text/plain": [
       "   numerical_predictor  correlation_w_target\n",
       "0                   al              0.531562\n",
       "1                  bgr              0.379321\n",
       "2                   bu              0.369393\n",
       "3                   su              0.294555\n",
       "4                   bp              0.293693\n",
       "5                   sc              0.291245\n",
       "6                  age              0.227842\n",
       "7                   wc              0.177571\n",
       "8                  pot              0.065218\n",
       "9                  sod             -0.334900\n",
       "10                  rc             -0.566163\n",
       "11                  sg             -0.659504\n",
       "12                hemo             -0.726368"
      ]
     },
     "execution_count": 25,
     "metadata": {},
     "output_type": "execute_result"
    }
   ],
   "source": [
    "tg_num_corr=[]\n",
    "\n",
    "for col in num_cols:\n",
    "    tg_num_corr.append(df[col].corr(df['classification']))\n",
    "    \n",
    "# create as DataFrame\n",
    "tg_num_df=pd.DataFrame({'numerical_predictor':num_cols,'correlation_w_target':tg_num_corr})\n",
    "\n",
    "# sort the DataFrmae by the absolute vaue of their correlation coefficient,descending\n",
    "tg_num_df=tg_num_df.sort_values(by='correlation_w_target',ascending=False).reset_index(drop=True)\n",
    "\n",
    "tg_num_df"
   ]
  },
  {
   "cell_type": "code",
   "execution_count": 26,
   "metadata": {
    "colab": {
     "base_uri": "https://localhost:8080/",
     "height": 350
    },
    "id": "CvJNn2jnzakI",
    "outputId": "b968363c-50e1-4fda-c6d0-461df15df94f"
   },
   "outputs": [
    {
     "data": {
      "image/png": "[encoded data removed]",
      "text/plain": [
       "<Figure size 504x360 with 1 Axes>"
      ]
     },
     "metadata": {
      "needs_background": "light"
     },
     "output_type": "display_data"
    }
   ],
   "source": [
    "# display as figure\n",
    "plt.figure(figsize=(7,5))\n",
    "sns.barplot(x=tg_num_df['correlation_w_target'],y=tg_num_df['numerical_predictor'],color='#a2c9f4')\n",
    "plt.xlabel('Correlation Coefficient')\n",
    "plt.title('Numerical-Target Relationship',fontsize=12)\n",
    "plt.show()"
   ]
  },
  {
   "cell_type": "code",
   "execution_count": 27,
   "metadata": {
    "colab": {
     "base_uri": "https://localhost:8080/",
     "height": 1000
    },
    "id": "OnssEkKrzbel",
    "outputId": "2d51a038-b25a-4ba2-cd77-760aa25d07b8"
   },
   "outputs": [
    {
     "data": {
      "image/png": "[encoded data removed]",
      "text/plain": [
       "<Figure size 504x5040 with 14 Axes>"
      ]
     },
     "metadata": {
      "needs_background": "light"
     },
     "output_type": "display_data"
    }
   ],
   "source": [
    "# set the figure\n",
    "fig,ax=plt.subplots(ncols=1,nrows=14,figsize=(7,70))\n",
    "i=0\n",
    "for col in num_cols:\n",
    "    sns.boxplot(data=df,x=col,ax=ax[i],palette='pastel')\n",
    "    ax[i].set_title(col,fontsize=14)\n",
    "    i=i+1\n",
    "    \n",
    "plt.show()"
   ]
  },
  {
   "cell_type": "markdown",
   "metadata": {
    "id": "edGPuQHgzmMU"
   },
   "source": [
    "Encoding"
   ]
  },
  {
   "cell_type": "code",
   "execution_count": 28,
   "metadata": {
    "id": "uIgu11NNzeI-"
   },
   "outputs": [],
   "source": [
    "df['rbc']=df['rbc'].map({'normal':0,'abnormal':1})\n",
    "df['pc']=df['pc'].map({'normal':0,'abnormal':1})\n",
    "df['pcc']=df['pcc'].map({'notpresent':0,'present':1})\n",
    "df['ba']=df['ba'].map({'notpresent':0,'present':1})\n",
    "df['htn']=df['htn'].map({'no':0,'yes':1})\n",
    "df['dm']=df['dm'].map({'no':0,'yes':1})\n",
    "df['cad']=df['cad'].map({'no':0,'yes':1})\n",
    "df['pe']=df['pe'].map({'no':0,'yes':1})\n",
    "df['ane']=df['ane'].map({'no':0,'yes':1})\n",
    "df['appet']=df['appet'].map({'good':0,'poor':1})"
   ]
  },
  {
   "cell_type": "markdown",
   "metadata": {
    "id": "QtjXFXsQzpNU"
   },
   "source": [
    "Normalization"
   ]
  },
  {
   "cell_type": "code",
   "execution_count": 29,
   "metadata": {
    "id": "wNhd5JdFztCf"
   },
   "outputs": [],
   "source": [
    "# scaling with MinMaxScaler\n",
    "from sklearn.preprocessing import StandardScaler,MinMaxScaler           \n",
    "mm_scaler=MinMaxScaler()\n",
    "df[num_cols]=mm_scaler.fit_transform(df[num_cols])"
   ]
  },
  {
   "cell_type": "markdown",
   "metadata": {
    "id": "Qqb8jFoUzxfr"
   },
   "source": [
    "Model Building"
   ]
  },
  {
   "cell_type": "code",
   "execution_count": 30,
   "metadata": {
    "colab": {
     "base_uri": "https://localhost:8080/"
    },
    "id": "vnK2Nk2EzyWp",
    "outputId": "d73bc1bf-99b9-40e1-b5de-ecc6778c2c8e"
   },
   "outputs": [
    {
     "name": "stdout",
     "output_type": "stream",
     "text": [
      "X_train size (320, 23) , X_test size (80, 23)\n"
     ]
    }
   ],
   "source": [
    "from sklearn.model_selection import train_test_split\n",
    "x=df.drop('classification',axis=1)\n",
    "y=df['classification']\n",
    "\n",
    "X_train,X_test,y_train,y_test=train_test_split(x,y,test_size=0.2,random_state=0)\n",
    "print(\"X_train size {} , X_test size {}\".format(X_train.shape,X_test.shape))"
   ]
  },
  {
   "cell_type": "code",
   "execution_count": 31,
   "metadata": {
    "id": "yyf1qa2cz0ni"
   },
   "outputs": [],
   "source": [
    "# Using GridSearchCV we find the best algorithm to this problem\n",
    "from sklearn.model_selection import ShuffleSplit,GridSearchCV,StratifiedKFold\n",
    "from sklearn.linear_model import LogisticRegression\n",
    "from sklearn.tree import DecisionTreeClassifier\n",
    "from sklearn.ensemble import RandomForestClassifier\n",
    "from sklearn.svm import SVC"
   ]
  },
  {
   "cell_type": "code",
   "execution_count": 32,
   "metadata": {
    "colab": {
     "base_uri": "https://localhost:8080/",
     "height": 175
    },
    "id": "zu1c3nJWz7yW",
    "outputId": "7d6b99b8-0d8d-4970-e390-3f235228e198"
   },
   "outputs": [
    {
     "data": {
      "text/html": [
       "<div>\n",
       "<style scoped>\n",
       "    .dataframe tbody tr th:only-of-type {\n",
       "        vertical-align: middle;\n",
       "    }\n",
       "\n",
       "    .dataframe tbody tr th {\n",
       "        vertical-align: top;\n",
       "    }\n",
       "\n",
       "    .dataframe thead th {\n",
       "        text-align: right;\n",
       "    }\n",
       "</style>\n",
       "<table border=\"1\" class=\"dataframe\">\n",
       "  <thead>\n",
       "    <tr style=\"text-align: right;\">\n",
       "      <th></th>\n",
       "      <th>model</th>\n",
       "      <th>best_parameters</th>\n",
       "      <th>score</th>\n",
       "    </tr>\n",
       "  </thead>\n",
       "  <tbody>\n",
       "    <tr>\n",
       "      <th>0</th>\n",
       "      <td>Logistic_regression</td>\n",
       "      <td>{'C': 4}</td>\n",
       "      <td>0.975000</td>\n",
       "    </tr>\n",
       "    <tr>\n",
       "      <th>1</th>\n",
       "      <td>decision_tree</td>\n",
       "      <td>{'criterion': 'entropy', 'max_depth': 7}</td>\n",
       "      <td>0.981250</td>\n",
       "    </tr>\n",
       "    <tr>\n",
       "      <th>2</th>\n",
       "      <td>svm</td>\n",
       "      <td>{'C': 5, 'kernel': 'linear'}</td>\n",
       "      <td>0.978125</td>\n",
       "    </tr>\n",
       "    <tr>\n",
       "      <th>3</th>\n",
       "      <td>random_forest</td>\n",
       "      <td>{'max_depth': 15, 'n_estimators': 5}</td>\n",
       "      <td>0.993750</td>\n",
       "    </tr>\n",
       "  </tbody>\n",
       "</table>\n",
       "</div>"
      ],
      "text/plain": [
       "                 model                           best_parameters     score\n",
       "0  Logistic_regression                                  {'C': 4}  0.975000\n",
       "1        decision_tree  {'criterion': 'entropy', 'max_depth': 7}  0.981250\n",
       "2                  svm              {'C': 5, 'kernel': 'linear'}  0.978125\n",
       "3        random_forest      {'max_depth': 15, 'n_estimators': 5}  0.993750"
      ]
     },
     "execution_count": 32,
     "metadata": {},
     "output_type": "execute_result"
    }
   ],
   "source": [
    "# Crete a function to find the best algo. for this problem\n",
    "def find_best_model(x,y):\n",
    "    models={'Logistic_regression':{'model':LogisticRegression(solver='liblinear',penalty='l2',multi_class='auto'),'parameter':{'C':[1,4,8]}},\n",
    "           'decision_tree':{'model':DecisionTreeClassifier(splitter='best'),'parameter':{'criterion':['gini','entropy'],'max_depth':[5,7,13,15]}},\n",
    "           'svm':{'model':SVC(gamma='auto'),'parameter':{'kernel':['sigmoid','linear'],'C':[1,5,10,15]}},\n",
    "           'random_forest':{'model':RandomForestClassifier(criterion='gini'),'parameter':{'max_depth':[5,10,15],'n_estimators':[1,3,5]}}}\n",
    "    scores=[]\n",
    "    cv_shuffle=StratifiedKFold(n_splits=10)\n",
    "    \n",
    "    for model_name,model_params in models.items():\n",
    "        gs=GridSearchCV(model_params['model'],model_params['parameter'],cv=cv_shuffle,return_train_score=False)\n",
    "        gs.fit(x,y)\n",
    "        scores.append({'model':model_name,'best_parameters':gs.best_params_,'score':gs.best_score_})\n",
    "    return pd.DataFrame(scores,columns=['model','best_parameters','score'])\n",
    "find_best_model(X_train,y_train)"
   ]
  },
  {
   "cell_type": "code",
   "execution_count": 33,
   "metadata": {
    "colab": {
     "base_uri": "https://localhost:8080/"
    },
    "id": "HOwLRl7Jz_YH",
    "outputId": "3d2efc6f-8bc2-421e-ae75-ac208f386d81"
   },
   "outputs": [
    {
     "name": "stdout",
     "output_type": "stream",
     "text": [
      "Average Accuracy Score 0.98125\n"
     ]
    }
   ],
   "source": [
    "# Using cross_val_score for gaining average accuracy\n",
    "from sklearn.model_selection import cross_val_score\n",
    "score=cross_val_score(RandomForestClassifier(max_depth=15,n_estimators=5),X_train,y_train,cv=10)\n",
    "print(\"Average Accuracy Score {}\".format(score.mean()))"
   ]
  },
  {
   "cell_type": "code",
   "execution_count": 34,
   "metadata": {
    "colab": {
     "base_uri": "https://localhost:8080/"
    },
    "id": "mNIwsJ8O0B1C",
    "outputId": "e450c8f7-11d9-46f8-df96-496365aeec2d"
   },
   "outputs": [
    {
     "data": {
      "text/plain": [
       "RandomForestClassifier(max_depth=5, n_estimators=5)"
      ]
     },
     "execution_count": 34,
     "metadata": {},
     "output_type": "execute_result"
    }
   ],
   "source": [
    "# Creating Random Forest model\n",
    "rf=RandomForestClassifier(max_depth=5,n_estimators=5)\n",
    "rf.fit(X_train,y_train)"
   ]
  },
  {
   "cell_type": "markdown",
   "metadata": {
    "id": "sX_FXxHs0EPu"
   },
   "source": [
    "Model Evaluation"
   ]
  },
  {
   "cell_type": "code",
   "execution_count": 35,
   "metadata": {
    "colab": {
     "base_uri": "https://localhost:8080/"
    },
    "id": "cdBPjcgh0Gq9",
    "outputId": "e70ddf2b-7b23-4265-e594-6db5393b0086"
   },
   "outputs": [
    {
     "data": {
      "text/plain": [
       "array([[28,  4],\n",
       "       [ 0, 48]], dtype=int64)"
      ]
     },
     "execution_count": 35,
     "metadata": {},
     "output_type": "execute_result"
    }
   ],
   "source": [
    "# Creating a confusion matrix\n",
    "from sklearn.metrics import confusion_matrix,classification_report,accuracy_score\n",
    "y_pred=rf.predict(X_test)\n",
    "cm=confusion_matrix(y_pred,y_test)\n",
    "cm"
   ]
  },
  {
   "cell_type": "code",
   "execution_count": 36,
   "metadata": {
    "colab": {
     "base_uri": "https://localhost:8080/",
     "height": 458
    },
    "id": "jjniRJj40GoC",
    "outputId": "04399d47-9bbc-4ce9-f856-592577e13c9e"
   },
   "outputs": [
    {
     "data": {
      "image/png": "[encoded data removed]",
      "text/plain": [
       "<Figure size 720x504 with 2 Axes>"
      ]
     },
     "metadata": {
      "needs_background": "light"
     },
     "output_type": "display_data"
    }
   ],
   "source": [
    "# Plotting the confusion matrix\n",
    "plt.figure(figsize=(10,7))\n",
    "p = sns.heatmap(cm, annot=True, cmap=\"Blues\", fmt='g')\n",
    "plt.title('Confusion matrix for RandomForest Model - Test Set')\n",
    "plt.xlabel('Predicted Values')\n",
    "plt.ylabel('Actual Values')\n",
    "plt.show()"
   ]
  },
  {
   "cell_type": "code",
   "execution_count": 37,
   "metadata": {
    "colab": {
     "base_uri": "https://localhost:8080/"
    },
    "id": "L7f5WNlu0NNz",
    "outputId": "549383f8-e26e-4325-c951-107d60bd2de6"
   },
   "outputs": [
    {
     "name": "stdout",
     "output_type": "stream",
     "text": [
      "Accuracy on the Test set: 0.95\n"
     ]
    }
   ],
   "source": [
    "# Accuracy score\n",
    "score=round(accuracy_score(y_test,y_pred),3)\n",
    "print(\"Accuracy on the Test set: {}\".format(score))"
   ]
  },
  {
   "cell_type": "code",
   "execution_count": 38,
   "metadata": {
    "colab": {
     "base_uri": "https://localhost:8080/"
    },
    "id": "oAESCXJq0RAZ",
    "outputId": "13d92e3d-a3d1-4495-95e0-fcad03c732c6"
   },
   "outputs": [
    {
     "name": "stdout",
     "output_type": "stream",
     "text": [
      "              precision    recall  f1-score   support\n",
      "\n",
      "           0       0.88      1.00      0.93        28\n",
      "           1       1.00      0.92      0.96        52\n",
      "\n",
      "    accuracy                           0.95        80\n",
      "   macro avg       0.94      0.96      0.95        80\n",
      "weighted avg       0.96      0.95      0.95        80\n",
      "\n"
     ]
    }
   ],
   "source": [
    "# Classification report \n",
    "print(classification_report(y_test,y_pred))"
   ]
  },
  {
   "cell_type": "code",
   "execution_count": 39,
   "metadata": {
    "colab": {
     "base_uri": "https://localhost:8080/"
    },
    "id": "cFy17URT0VBm",
    "outputId": "6ff040d4-5bac-4e8c-fae8-57289d26fcaa"
   },
   "outputs": [
    {
     "data": {
      "text/plain": [
       "array([[121,   1],\n",
       "       [  3, 195]], dtype=int64)"
      ]
     },
     "execution_count": 39,
     "metadata": {},
     "output_type": "execute_result"
    }
   ],
   "source": [
    "# Creating a confusion matrix for training set\n",
    "y_train_pred=rf.predict(X_train)\n",
    "cm=confusion_matrix(y_train,y_train_pred)\n",
    "cm"
   ]
  },
  {
   "cell_type": "code",
   "execution_count": 40,
   "metadata": {
    "colab": {
     "base_uri": "https://localhost:8080/"
    },
    "id": "mceLtI0v0YXz",
    "outputId": "d5d9e15e-b751-4ea5-e805-2888e33a2621"
   },
   "outputs": [
    {
     "name": "stdout",
     "output_type": "stream",
     "text": [
      "Accuracy on training set: 0.988\n"
     ]
    }
   ],
   "source": [
    "# Accuracy score\n",
    "score=round(accuracy_score(y_train,y_train_pred),3)\n",
    "print(\"Accuracy on training set: {}\".format(score))"
   ]
  },
  {
   "cell_type": "code",
   "execution_count": 41,
   "metadata": {
    "colab": {
     "base_uri": "https://localhost:8080/"
    },
    "id": "169f_-lj0amD",
    "outputId": "0aade4d2-d1c0-4a8e-bc6e-e89dfee5f791"
   },
   "outputs": [
    {
     "name": "stdout",
     "output_type": "stream",
     "text": [
      "              precision    recall  f1-score   support\n",
      "\n",
      "           0       0.98      0.99      0.98       122\n",
      "           1       0.99      0.98      0.99       198\n",
      "\n",
      "    accuracy                           0.99       320\n",
      "   macro avg       0.99      0.99      0.99       320\n",
      "weighted avg       0.99      0.99      0.99       320\n",
      "\n"
     ]
    }
   ],
   "source": [
    "print(classification_report(y_train,y_train_pred))"
   ]
  },
  {
   "cell_type": "markdown",
   "metadata": {
    "id": "AWq64QAP0fpe"
   },
   "source": [
    "Feature Selection"
   ]
  },
  {
   "cell_type": "code",
   "execution_count": 42,
   "metadata": {
    "colab": {
     "base_uri": "https://localhost:8080/",
     "height": 404
    },
    "id": "WPApU8fX0dJC",
    "outputId": "6d8a24d6-1ae4-4b57-ee7a-21f304ba52bd"
   },
   "outputs": [
    {
     "data": {
      "image/png": "[encoded data removed]",
      "text/plain": [
       "<Figure size 1008x432 with 1 Axes>"
      ]
     },
     "metadata": {
      "needs_background": "light"
     },
     "output_type": "display_data"
    }
   ],
   "source": [
    "# Top 10 Features\n",
    "feature_scores=pd.DataFrame(rf.feature_importances_,columns=['Score'],index=X_train.columns).sort_values(by='Score',ascending=False)\n",
    "top10_feature = feature_scores.nlargest(n=10, columns=['Score'])\n",
    "\n",
    "plt.figure(figsize=(14,6))\n",
    "g = sns.barplot(x=top10_feature.index, y=top10_feature['Score'])\n",
    "p = plt.title('Top 10 Features with Random Forest')\n",
    "p = plt.xlabel('Feature name')\n",
    "p = plt.ylabel('Random Forest score')\n",
    "p = g.set_xticklabels(g.get_xticklabels(), horizontalalignment='right')"
   ]
  },
  {
   "cell_type": "markdown",
   "metadata": {
    "id": "4FfdmIPZ0l02"
   },
   "source": [
    "Prediction"
   ]
  },
  {
   "cell_type": "code",
   "execution_count": 43,
   "metadata": {
    "id": "bDSlhyz40jHw"
   },
   "outputs": [
    {
     "data": {
      "text/plain": [
       "RandomForestClassifier(max_depth=5, n_estimators=5)"
      ]
     },
     "execution_count": 43,
     "metadata": {},
     "output_type": "execute_result"
    }
   ],
   "source": [
    "X_train=X_train[['hemo','rc','sg','al','sc','htn','sod','bp','wc','age']]\n",
    "X_test=X_test[['hemo','rc','sg','al','sc','htn','sod','bp','wc','age']]\n",
    "rf.fit(X_train,y_train)"
   ]
  },
  {
   "cell_type": "code",
   "execution_count": 44,
   "metadata": {
    "colab": {
     "base_uri": "https://localhost:8080/"
    },
    "id": "V6CXMS-00jE4",
    "outputId": "b20f970b-a1c2-44f4-9fc6-958cd22274cd"
   },
   "outputs": [
    {
     "name": "stdout",
     "output_type": "stream",
     "text": [
      "Oops! You have Chronic Kidney Disease.\n"
     ]
    }
   ],
   "source": [
    "# Prediction 1\n",
    "# input parameter : Hemoglobin(hemo), Red Blood Cells(rc), Specific Gravity(sg), Albumin(al), Searum Creatinite(sc), \n",
    "# Hypertension(htn), Sodium(sod), Blood Pressure(bp), White Blood Cells(wc), Age\n",
    "prediction = rf.predict([[67.4,7.2,0.99,4,17.0,1,160.6,87,22089,36]])[0]\n",
    "if prediction:\n",
    "  print('Oops! You have Chronic Kidney Disease.')\n",
    "else:\n",
    "  print(\"Great! You don't have Chronic Kidney Disease.\")"
   ]
  },
  {
   "cell_type": "code",
   "execution_count": 45,
   "metadata": {},
   "outputs": [
    {
     "name": "stdout",
     "output_type": "stream",
     "text": [
      "1\n"
     ]
    }
   ],
   "source": [
    "print(prediction)"
   ]
  },
  {
   "cell_type": "code",
   "execution_count": 47,
   "metadata": {},
   "outputs": [],
   "source": [
    "import pickle\n",
    "pickle.dump(rf,open(\"model.pkl\",\"wb\"))"
   ]
  }
 ],
 "metadata": {
  "colab": {
   "provenance": []
  },
  "kernelspec": {
   "display_name": "Python 3 (ipykernel)",
   "language": "python",
   "name": "python3"
  },
  "language_info": {
   "codemirror_mode": {
    "name": "ipython",
    "version": 3
   },
   "file_extension": ".py",
   "mimetype": "text/x-python",
   "name": "python",
   "nbconvert_exporter": "python",
   "pygments_lexer": "ipython3",
   "version": "3.9.12"
  }
 },
 "nbformat": 4,
 "nbformat_minor": 1
}
